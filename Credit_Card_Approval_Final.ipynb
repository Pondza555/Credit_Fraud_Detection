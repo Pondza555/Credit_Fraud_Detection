{
  "nbformat": 4,
  "nbformat_minor": 0,
  "metadata": {
    "colab": {
      "provenance": [],
      "toc_visible": true,
      "mount_file_id": "1Q2UtgsUOa7q-7a_4J-g6UCV3OS8GTbym",
      "authorship_tag": "ABX9TyNwtQhPIg/kGlTpY2yK+BYX",
      "include_colab_link": true
    },
    "kernelspec": {
      "name": "python3",
      "display_name": "Python 3"
    },
    "language_info": {
      "name": "python"
    }
  },
  "cells": [
    {
      "cell_type": "markdown",
      "metadata": {
        "id": "view-in-github",
        "colab_type": "text"
      },
      "source": [
        "<a href=\"https://colab.research.google.com/github/Pondza555/Fraud-Detection/blob/main/Credit_Card_Approval_Final.ipynb\" target=\"_parent\"><img src=\"https://colab.research.google.com/assets/colab-badge.svg\" alt=\"Open In Colab\"/></a>"
      ]
    },
    {
      "cell_type": "markdown",
      "source": [
        "## 0. Set basics library & data"
      ],
      "metadata": {
        "id": "YfPCXOv_Iima"
      }
    },
    {
      "cell_type": "code",
      "execution_count": 105,
      "metadata": {
        "id": "JGh7H9mrHTbH"
      },
      "outputs": [],
      "source": [
        "import numpy as np\n",
        "import pandas as pd\n",
        "import matplotlib.pyplot as plt\n",
        "import seaborn as sns\n",
        "\n",
        "record = pd.read_csv(\"/content/drive/MyDrive/Dataset/application_record.csv\")\n",
        "credit = pd.read_csv(\"/content/drive/MyDrive/Dataset/credit_record.csv\")"
      ]
    },
    {
      "cell_type": "markdown",
      "source": [
        "## 1. Explore data"
      ],
      "metadata": {
        "id": "G7Yrv-XCM6Vi"
      }
    },
    {
      "cell_type": "markdown",
      "source": [
        "### 1.1 View data"
      ],
      "metadata": {
        "id": "w7_rCerOPKHj"
      }
    },
    {
      "cell_type": "markdown",
      "source": [
        "* There are NULL or NAN."
      ],
      "metadata": {
        "id": "2gj3dbIPPAyh"
      }
    },
    {
      "cell_type": "code",
      "source": [
        "record.head()"
      ],
      "metadata": {
        "colab": {
          "base_uri": "https://localhost:8080/",
          "height": 278
        },
        "id": "LgahrZN_a2UC",
        "outputId": "0cef1588-2a13-44a8-e306-1fdde4e5bfbe"
      },
      "execution_count": 54,
      "outputs": [
        {
          "output_type": "execute_result",
          "data": {
            "text/plain": [
              "        ID CODE_GENDER FLAG_OWN_CAR FLAG_OWN_REALTY  CNT_CHILDREN  \\\n",
              "0  5008804           M            Y               Y             0   \n",
              "1  5008805           M            Y               Y             0   \n",
              "2  5008806           M            Y               Y             0   \n",
              "3  5008808           F            N               Y             0   \n",
              "4  5008809           F            N               Y             0   \n",
              "\n",
              "   AMT_INCOME_TOTAL      NAME_INCOME_TYPE            NAME_EDUCATION_TYPE  \\\n",
              "0          427500.0               Working               Higher education   \n",
              "1          427500.0               Working               Higher education   \n",
              "2          112500.0               Working  Secondary / secondary special   \n",
              "3          270000.0  Commercial associate  Secondary / secondary special   \n",
              "4          270000.0  Commercial associate  Secondary / secondary special   \n",
              "\n",
              "     NAME_FAMILY_STATUS  NAME_HOUSING_TYPE  DAYS_BIRTH  DAYS_EMPLOYED  \\\n",
              "0        Civil marriage   Rented apartment      -12005          -4542   \n",
              "1        Civil marriage   Rented apartment      -12005          -4542   \n",
              "2               Married  House / apartment      -21474          -1134   \n",
              "3  Single / not married  House / apartment      -19110          -3051   \n",
              "4  Single / not married  House / apartment      -19110          -3051   \n",
              "\n",
              "   FLAG_MOBIL  FLAG_WORK_PHONE  FLAG_PHONE  FLAG_EMAIL OCCUPATION_TYPE  \\\n",
              "0           1                1           0           0             NaN   \n",
              "1           1                1           0           0             NaN   \n",
              "2           1                0           0           0  Security staff   \n",
              "3           1                0           1           1     Sales staff   \n",
              "4           1                0           1           1     Sales staff   \n",
              "\n",
              "   CNT_FAM_MEMBERS  \n",
              "0              2.0  \n",
              "1              2.0  \n",
              "2              2.0  \n",
              "3              1.0  \n",
              "4              1.0  "
            ],
            "text/html": [
              "\n",
              "  <div id=\"df-c6a64f5b-a599-4c79-be64-b48552a372b3\" class=\"colab-df-container\">\n",
              "    <div>\n",
              "<style scoped>\n",
              "    .dataframe tbody tr th:only-of-type {\n",
              "        vertical-align: middle;\n",
              "    }\n",
              "\n",
              "    .dataframe tbody tr th {\n",
              "        vertical-align: top;\n",
              "    }\n",
              "\n",
              "    .dataframe thead th {\n",
              "        text-align: right;\n",
              "    }\n",
              "</style>\n",
              "<table border=\"1\" class=\"dataframe\">\n",
              "  <thead>\n",
              "    <tr style=\"text-align: right;\">\n",
              "      <th></th>\n",
              "      <th>ID</th>\n",
              "      <th>CODE_GENDER</th>\n",
              "      <th>FLAG_OWN_CAR</th>\n",
              "      <th>FLAG_OWN_REALTY</th>\n",
              "      <th>CNT_CHILDREN</th>\n",
              "      <th>AMT_INCOME_TOTAL</th>\n",
              "      <th>NAME_INCOME_TYPE</th>\n",
              "      <th>NAME_EDUCATION_TYPE</th>\n",
              "      <th>NAME_FAMILY_STATUS</th>\n",
              "      <th>NAME_HOUSING_TYPE</th>\n",
              "      <th>DAYS_BIRTH</th>\n",
              "      <th>DAYS_EMPLOYED</th>\n",
              "      <th>FLAG_MOBIL</th>\n",
              "      <th>FLAG_WORK_PHONE</th>\n",
              "      <th>FLAG_PHONE</th>\n",
              "      <th>FLAG_EMAIL</th>\n",
              "      <th>OCCUPATION_TYPE</th>\n",
              "      <th>CNT_FAM_MEMBERS</th>\n",
              "    </tr>\n",
              "  </thead>\n",
              "  <tbody>\n",
              "    <tr>\n",
              "      <th>0</th>\n",
              "      <td>5008804</td>\n",
              "      <td>M</td>\n",
              "      <td>Y</td>\n",
              "      <td>Y</td>\n",
              "      <td>0</td>\n",
              "      <td>427500.0</td>\n",
              "      <td>Working</td>\n",
              "      <td>Higher education</td>\n",
              "      <td>Civil marriage</td>\n",
              "      <td>Rented apartment</td>\n",
              "      <td>-12005</td>\n",
              "      <td>-4542</td>\n",
              "      <td>1</td>\n",
              "      <td>1</td>\n",
              "      <td>0</td>\n",
              "      <td>0</td>\n",
              "      <td>NaN</td>\n",
              "      <td>2.0</td>\n",
              "    </tr>\n",
              "    <tr>\n",
              "      <th>1</th>\n",
              "      <td>5008805</td>\n",
              "      <td>M</td>\n",
              "      <td>Y</td>\n",
              "      <td>Y</td>\n",
              "      <td>0</td>\n",
              "      <td>427500.0</td>\n",
              "      <td>Working</td>\n",
              "      <td>Higher education</td>\n",
              "      <td>Civil marriage</td>\n",
              "      <td>Rented apartment</td>\n",
              "      <td>-12005</td>\n",
              "      <td>-4542</td>\n",
              "      <td>1</td>\n",
              "      <td>1</td>\n",
              "      <td>0</td>\n",
              "      <td>0</td>\n",
              "      <td>NaN</td>\n",
              "      <td>2.0</td>\n",
              "    </tr>\n",
              "    <tr>\n",
              "      <th>2</th>\n",
              "      <td>5008806</td>\n",
              "      <td>M</td>\n",
              "      <td>Y</td>\n",
              "      <td>Y</td>\n",
              "      <td>0</td>\n",
              "      <td>112500.0</td>\n",
              "      <td>Working</td>\n",
              "      <td>Secondary / secondary special</td>\n",
              "      <td>Married</td>\n",
              "      <td>House / apartment</td>\n",
              "      <td>-21474</td>\n",
              "      <td>-1134</td>\n",
              "      <td>1</td>\n",
              "      <td>0</td>\n",
              "      <td>0</td>\n",
              "      <td>0</td>\n",
              "      <td>Security staff</td>\n",
              "      <td>2.0</td>\n",
              "    </tr>\n",
              "    <tr>\n",
              "      <th>3</th>\n",
              "      <td>5008808</td>\n",
              "      <td>F</td>\n",
              "      <td>N</td>\n",
              "      <td>Y</td>\n",
              "      <td>0</td>\n",
              "      <td>270000.0</td>\n",
              "      <td>Commercial associate</td>\n",
              "      <td>Secondary / secondary special</td>\n",
              "      <td>Single / not married</td>\n",
              "      <td>House / apartment</td>\n",
              "      <td>-19110</td>\n",
              "      <td>-3051</td>\n",
              "      <td>1</td>\n",
              "      <td>0</td>\n",
              "      <td>1</td>\n",
              "      <td>1</td>\n",
              "      <td>Sales staff</td>\n",
              "      <td>1.0</td>\n",
              "    </tr>\n",
              "    <tr>\n",
              "      <th>4</th>\n",
              "      <td>5008809</td>\n",
              "      <td>F</td>\n",
              "      <td>N</td>\n",
              "      <td>Y</td>\n",
              "      <td>0</td>\n",
              "      <td>270000.0</td>\n",
              "      <td>Commercial associate</td>\n",
              "      <td>Secondary / secondary special</td>\n",
              "      <td>Single / not married</td>\n",
              "      <td>House / apartment</td>\n",
              "      <td>-19110</td>\n",
              "      <td>-3051</td>\n",
              "      <td>1</td>\n",
              "      <td>0</td>\n",
              "      <td>1</td>\n",
              "      <td>1</td>\n",
              "      <td>Sales staff</td>\n",
              "      <td>1.0</td>\n",
              "    </tr>\n",
              "  </tbody>\n",
              "</table>\n",
              "</div>\n",
              "    <div class=\"colab-df-buttons\">\n",
              "\n",
              "  <div class=\"colab-df-container\">\n",
              "    <button class=\"colab-df-convert\" onclick=\"convertToInteractive('df-c6a64f5b-a599-4c79-be64-b48552a372b3')\"\n",
              "            title=\"Convert this dataframe to an interactive table.\"\n",
              "            style=\"display:none;\">\n",
              "\n",
              "  <svg xmlns=\"http://www.w3.org/2000/svg\" height=\"24px\" viewBox=\"0 -960 960 960\">\n",
              "    <path d=\"M120-120v-720h720v720H120Zm60-500h600v-160H180v160Zm220 220h160v-160H400v160Zm0 220h160v-160H400v160ZM180-400h160v-160H180v160Zm440 0h160v-160H620v160ZM180-180h160v-160H180v160Zm440 0h160v-160H620v160Z\"/>\n",
              "  </svg>\n",
              "    </button>\n",
              "\n",
              "  <style>\n",
              "    .colab-df-container {\n",
              "      display:flex;\n",
              "      gap: 12px;\n",
              "    }\n",
              "\n",
              "    .colab-df-convert {\n",
              "      background-color: #E8F0FE;\n",
              "      border: none;\n",
              "      border-radius: 50%;\n",
              "      cursor: pointer;\n",
              "      display: none;\n",
              "      fill: #1967D2;\n",
              "      height: 32px;\n",
              "      padding: 0 0 0 0;\n",
              "      width: 32px;\n",
              "    }\n",
              "\n",
              "    .colab-df-convert:hover {\n",
              "      background-color: #E2EBFA;\n",
              "      box-shadow: 0px 1px 2px rgba(60, 64, 67, 0.3), 0px 1px 3px 1px rgba(60, 64, 67, 0.15);\n",
              "      fill: #174EA6;\n",
              "    }\n",
              "\n",
              "    .colab-df-buttons div {\n",
              "      margin-bottom: 4px;\n",
              "    }\n",
              "\n",
              "    [theme=dark] .colab-df-convert {\n",
              "      background-color: #3B4455;\n",
              "      fill: #D2E3FC;\n",
              "    }\n",
              "\n",
              "    [theme=dark] .colab-df-convert:hover {\n",
              "      background-color: #434B5C;\n",
              "      box-shadow: 0px 1px 3px 1px rgba(0, 0, 0, 0.15);\n",
              "      filter: drop-shadow(0px 1px 2px rgba(0, 0, 0, 0.3));\n",
              "      fill: #FFFFFF;\n",
              "    }\n",
              "  </style>\n",
              "\n",
              "    <script>\n",
              "      const buttonEl =\n",
              "        document.querySelector('#df-c6a64f5b-a599-4c79-be64-b48552a372b3 button.colab-df-convert');\n",
              "      buttonEl.style.display =\n",
              "        google.colab.kernel.accessAllowed ? 'block' : 'none';\n",
              "\n",
              "      async function convertToInteractive(key) {\n",
              "        const element = document.querySelector('#df-c6a64f5b-a599-4c79-be64-b48552a372b3');\n",
              "        const dataTable =\n",
              "          await google.colab.kernel.invokeFunction('convertToInteractive',\n",
              "                                                    [key], {});\n",
              "        if (!dataTable) return;\n",
              "\n",
              "        const docLinkHtml = 'Like what you see? Visit the ' +\n",
              "          '<a target=\"_blank\" href=https://colab.research.google.com/notebooks/data_table.ipynb>data table notebook</a>'\n",
              "          + ' to learn more about interactive tables.';\n",
              "        element.innerHTML = '';\n",
              "        dataTable['output_type'] = 'display_data';\n",
              "        await google.colab.output.renderOutput(dataTable, element);\n",
              "        const docLink = document.createElement('div');\n",
              "        docLink.innerHTML = docLinkHtml;\n",
              "        element.appendChild(docLink);\n",
              "      }\n",
              "    </script>\n",
              "  </div>\n",
              "\n",
              "\n",
              "    <div id=\"df-dfa8e1ef-bebf-4f6b-873b-957b587ddc52\">\n",
              "      <button class=\"colab-df-quickchart\" onclick=\"quickchart('df-dfa8e1ef-bebf-4f6b-873b-957b587ddc52')\"\n",
              "                title=\"Suggest charts\"\n",
              "                style=\"display:none;\">\n",
              "\n",
              "<svg xmlns=\"http://www.w3.org/2000/svg\" height=\"24px\"viewBox=\"0 0 24 24\"\n",
              "     width=\"24px\">\n",
              "    <g>\n",
              "        <path d=\"M19 3H5c-1.1 0-2 .9-2 2v14c0 1.1.9 2 2 2h14c1.1 0 2-.9 2-2V5c0-1.1-.9-2-2-2zM9 17H7v-7h2v7zm4 0h-2V7h2v10zm4 0h-2v-4h2v4z\"/>\n",
              "    </g>\n",
              "</svg>\n",
              "      </button>\n",
              "\n",
              "<style>\n",
              "  .colab-df-quickchart {\n",
              "      --bg-color: #E8F0FE;\n",
              "      --fill-color: #1967D2;\n",
              "      --hover-bg-color: #E2EBFA;\n",
              "      --hover-fill-color: #174EA6;\n",
              "      --disabled-fill-color: #AAA;\n",
              "      --disabled-bg-color: #DDD;\n",
              "  }\n",
              "\n",
              "  [theme=dark] .colab-df-quickchart {\n",
              "      --bg-color: #3B4455;\n",
              "      --fill-color: #D2E3FC;\n",
              "      --hover-bg-color: #434B5C;\n",
              "      --hover-fill-color: #FFFFFF;\n",
              "      --disabled-bg-color: #3B4455;\n",
              "      --disabled-fill-color: #666;\n",
              "  }\n",
              "\n",
              "  .colab-df-quickchart {\n",
              "    background-color: var(--bg-color);\n",
              "    border: none;\n",
              "    border-radius: 50%;\n",
              "    cursor: pointer;\n",
              "    display: none;\n",
              "    fill: var(--fill-color);\n",
              "    height: 32px;\n",
              "    padding: 0;\n",
              "    width: 32px;\n",
              "  }\n",
              "\n",
              "  .colab-df-quickchart:hover {\n",
              "    background-color: var(--hover-bg-color);\n",
              "    box-shadow: 0 1px 2px rgba(60, 64, 67, 0.3), 0 1px 3px 1px rgba(60, 64, 67, 0.15);\n",
              "    fill: var(--button-hover-fill-color);\n",
              "  }\n",
              "\n",
              "  .colab-df-quickchart-complete:disabled,\n",
              "  .colab-df-quickchart-complete:disabled:hover {\n",
              "    background-color: var(--disabled-bg-color);\n",
              "    fill: var(--disabled-fill-color);\n",
              "    box-shadow: none;\n",
              "  }\n",
              "\n",
              "  .colab-df-spinner {\n",
              "    border: 2px solid var(--fill-color);\n",
              "    border-color: transparent;\n",
              "    border-bottom-color: var(--fill-color);\n",
              "    animation:\n",
              "      spin 1s steps(1) infinite;\n",
              "  }\n",
              "\n",
              "  @keyframes spin {\n",
              "    0% {\n",
              "      border-color: transparent;\n",
              "      border-bottom-color: var(--fill-color);\n",
              "      border-left-color: var(--fill-color);\n",
              "    }\n",
              "    20% {\n",
              "      border-color: transparent;\n",
              "      border-left-color: var(--fill-color);\n",
              "      border-top-color: var(--fill-color);\n",
              "    }\n",
              "    30% {\n",
              "      border-color: transparent;\n",
              "      border-left-color: var(--fill-color);\n",
              "      border-top-color: var(--fill-color);\n",
              "      border-right-color: var(--fill-color);\n",
              "    }\n",
              "    40% {\n",
              "      border-color: transparent;\n",
              "      border-right-color: var(--fill-color);\n",
              "      border-top-color: var(--fill-color);\n",
              "    }\n",
              "    60% {\n",
              "      border-color: transparent;\n",
              "      border-right-color: var(--fill-color);\n",
              "    }\n",
              "    80% {\n",
              "      border-color: transparent;\n",
              "      border-right-color: var(--fill-color);\n",
              "      border-bottom-color: var(--fill-color);\n",
              "    }\n",
              "    90% {\n",
              "      border-color: transparent;\n",
              "      border-bottom-color: var(--fill-color);\n",
              "    }\n",
              "  }\n",
              "</style>\n",
              "\n",
              "      <script>\n",
              "        async function quickchart(key) {\n",
              "          const quickchartButtonEl =\n",
              "            document.querySelector('#' + key + ' button');\n",
              "          quickchartButtonEl.disabled = true;  // To prevent multiple clicks.\n",
              "          quickchartButtonEl.classList.add('colab-df-spinner');\n",
              "          try {\n",
              "            const charts = await google.colab.kernel.invokeFunction(\n",
              "                'suggestCharts', [key], {});\n",
              "          } catch (error) {\n",
              "            console.error('Error during call to suggestCharts:', error);\n",
              "          }\n",
              "          quickchartButtonEl.classList.remove('colab-df-spinner');\n",
              "          quickchartButtonEl.classList.add('colab-df-quickchart-complete');\n",
              "        }\n",
              "        (() => {\n",
              "          let quickchartButtonEl =\n",
              "            document.querySelector('#df-dfa8e1ef-bebf-4f6b-873b-957b587ddc52 button');\n",
              "          quickchartButtonEl.style.display =\n",
              "            google.colab.kernel.accessAllowed ? 'block' : 'none';\n",
              "        })();\n",
              "      </script>\n",
              "    </div>\n",
              "\n",
              "    </div>\n",
              "  </div>\n"
            ],
            "application/vnd.google.colaboratory.intrinsic+json": {
              "type": "dataframe",
              "variable_name": "record"
            }
          },
          "metadata": {},
          "execution_count": 54
        }
      ]
    },
    {
      "cell_type": "code",
      "source": [
        "credit.head()"
      ],
      "metadata": {
        "colab": {
          "base_uri": "https://localhost:8080/",
          "height": 206
        },
        "id": "sYygNRUMa2gi",
        "outputId": "e89bc91c-cb93-4528-ce9d-dc9b4a38d290"
      },
      "execution_count": 55,
      "outputs": [
        {
          "output_type": "execute_result",
          "data": {
            "text/plain": [
              "        ID  MONTHS_BALANCE STATUS\n",
              "0  5001711               0      X\n",
              "1  5001711              -1      0\n",
              "2  5001711              -2      0\n",
              "3  5001711              -3      0\n",
              "4  5001712               0      C"
            ],
            "text/html": [
              "\n",
              "  <div id=\"df-61cd41ed-6630-4b2d-bb5c-3fbfeba6e83d\" class=\"colab-df-container\">\n",
              "    <div>\n",
              "<style scoped>\n",
              "    .dataframe tbody tr th:only-of-type {\n",
              "        vertical-align: middle;\n",
              "    }\n",
              "\n",
              "    .dataframe tbody tr th {\n",
              "        vertical-align: top;\n",
              "    }\n",
              "\n",
              "    .dataframe thead th {\n",
              "        text-align: right;\n",
              "    }\n",
              "</style>\n",
              "<table border=\"1\" class=\"dataframe\">\n",
              "  <thead>\n",
              "    <tr style=\"text-align: right;\">\n",
              "      <th></th>\n",
              "      <th>ID</th>\n",
              "      <th>MONTHS_BALANCE</th>\n",
              "      <th>STATUS</th>\n",
              "    </tr>\n",
              "  </thead>\n",
              "  <tbody>\n",
              "    <tr>\n",
              "      <th>0</th>\n",
              "      <td>5001711</td>\n",
              "      <td>0</td>\n",
              "      <td>X</td>\n",
              "    </tr>\n",
              "    <tr>\n",
              "      <th>1</th>\n",
              "      <td>5001711</td>\n",
              "      <td>-1</td>\n",
              "      <td>0</td>\n",
              "    </tr>\n",
              "    <tr>\n",
              "      <th>2</th>\n",
              "      <td>5001711</td>\n",
              "      <td>-2</td>\n",
              "      <td>0</td>\n",
              "    </tr>\n",
              "    <tr>\n",
              "      <th>3</th>\n",
              "      <td>5001711</td>\n",
              "      <td>-3</td>\n",
              "      <td>0</td>\n",
              "    </tr>\n",
              "    <tr>\n",
              "      <th>4</th>\n",
              "      <td>5001712</td>\n",
              "      <td>0</td>\n",
              "      <td>C</td>\n",
              "    </tr>\n",
              "  </tbody>\n",
              "</table>\n",
              "</div>\n",
              "    <div class=\"colab-df-buttons\">\n",
              "\n",
              "  <div class=\"colab-df-container\">\n",
              "    <button class=\"colab-df-convert\" onclick=\"convertToInteractive('df-61cd41ed-6630-4b2d-bb5c-3fbfeba6e83d')\"\n",
              "            title=\"Convert this dataframe to an interactive table.\"\n",
              "            style=\"display:none;\">\n",
              "\n",
              "  <svg xmlns=\"http://www.w3.org/2000/svg\" height=\"24px\" viewBox=\"0 -960 960 960\">\n",
              "    <path d=\"M120-120v-720h720v720H120Zm60-500h600v-160H180v160Zm220 220h160v-160H400v160Zm0 220h160v-160H400v160ZM180-400h160v-160H180v160Zm440 0h160v-160H620v160ZM180-180h160v-160H180v160Zm440 0h160v-160H620v160Z\"/>\n",
              "  </svg>\n",
              "    </button>\n",
              "\n",
              "  <style>\n",
              "    .colab-df-container {\n",
              "      display:flex;\n",
              "      gap: 12px;\n",
              "    }\n",
              "\n",
              "    .colab-df-convert {\n",
              "      background-color: #E8F0FE;\n",
              "      border: none;\n",
              "      border-radius: 50%;\n",
              "      cursor: pointer;\n",
              "      display: none;\n",
              "      fill: #1967D2;\n",
              "      height: 32px;\n",
              "      padding: 0 0 0 0;\n",
              "      width: 32px;\n",
              "    }\n",
              "\n",
              "    .colab-df-convert:hover {\n",
              "      background-color: #E2EBFA;\n",
              "      box-shadow: 0px 1px 2px rgba(60, 64, 67, 0.3), 0px 1px 3px 1px rgba(60, 64, 67, 0.15);\n",
              "      fill: #174EA6;\n",
              "    }\n",
              "\n",
              "    .colab-df-buttons div {\n",
              "      margin-bottom: 4px;\n",
              "    }\n",
              "\n",
              "    [theme=dark] .colab-df-convert {\n",
              "      background-color: #3B4455;\n",
              "      fill: #D2E3FC;\n",
              "    }\n",
              "\n",
              "    [theme=dark] .colab-df-convert:hover {\n",
              "      background-color: #434B5C;\n",
              "      box-shadow: 0px 1px 3px 1px rgba(0, 0, 0, 0.15);\n",
              "      filter: drop-shadow(0px 1px 2px rgba(0, 0, 0, 0.3));\n",
              "      fill: #FFFFFF;\n",
              "    }\n",
              "  </style>\n",
              "\n",
              "    <script>\n",
              "      const buttonEl =\n",
              "        document.querySelector('#df-61cd41ed-6630-4b2d-bb5c-3fbfeba6e83d button.colab-df-convert');\n",
              "      buttonEl.style.display =\n",
              "        google.colab.kernel.accessAllowed ? 'block' : 'none';\n",
              "\n",
              "      async function convertToInteractive(key) {\n",
              "        const element = document.querySelector('#df-61cd41ed-6630-4b2d-bb5c-3fbfeba6e83d');\n",
              "        const dataTable =\n",
              "          await google.colab.kernel.invokeFunction('convertToInteractive',\n",
              "                                                    [key], {});\n",
              "        if (!dataTable) return;\n",
              "\n",
              "        const docLinkHtml = 'Like what you see? Visit the ' +\n",
              "          '<a target=\"_blank\" href=https://colab.research.google.com/notebooks/data_table.ipynb>data table notebook</a>'\n",
              "          + ' to learn more about interactive tables.';\n",
              "        element.innerHTML = '';\n",
              "        dataTable['output_type'] = 'display_data';\n",
              "        await google.colab.output.renderOutput(dataTable, element);\n",
              "        const docLink = document.createElement('div');\n",
              "        docLink.innerHTML = docLinkHtml;\n",
              "        element.appendChild(docLink);\n",
              "      }\n",
              "    </script>\n",
              "  </div>\n",
              "\n",
              "\n",
              "    <div id=\"df-7b4850e9-3dcb-4018-830a-94e9fe939ec7\">\n",
              "      <button class=\"colab-df-quickchart\" onclick=\"quickchart('df-7b4850e9-3dcb-4018-830a-94e9fe939ec7')\"\n",
              "                title=\"Suggest charts\"\n",
              "                style=\"display:none;\">\n",
              "\n",
              "<svg xmlns=\"http://www.w3.org/2000/svg\" height=\"24px\"viewBox=\"0 0 24 24\"\n",
              "     width=\"24px\">\n",
              "    <g>\n",
              "        <path d=\"M19 3H5c-1.1 0-2 .9-2 2v14c0 1.1.9 2 2 2h14c1.1 0 2-.9 2-2V5c0-1.1-.9-2-2-2zM9 17H7v-7h2v7zm4 0h-2V7h2v10zm4 0h-2v-4h2v4z\"/>\n",
              "    </g>\n",
              "</svg>\n",
              "      </button>\n",
              "\n",
              "<style>\n",
              "  .colab-df-quickchart {\n",
              "      --bg-color: #E8F0FE;\n",
              "      --fill-color: #1967D2;\n",
              "      --hover-bg-color: #E2EBFA;\n",
              "      --hover-fill-color: #174EA6;\n",
              "      --disabled-fill-color: #AAA;\n",
              "      --disabled-bg-color: #DDD;\n",
              "  }\n",
              "\n",
              "  [theme=dark] .colab-df-quickchart {\n",
              "      --bg-color: #3B4455;\n",
              "      --fill-color: #D2E3FC;\n",
              "      --hover-bg-color: #434B5C;\n",
              "      --hover-fill-color: #FFFFFF;\n",
              "      --disabled-bg-color: #3B4455;\n",
              "      --disabled-fill-color: #666;\n",
              "  }\n",
              "\n",
              "  .colab-df-quickchart {\n",
              "    background-color: var(--bg-color);\n",
              "    border: none;\n",
              "    border-radius: 50%;\n",
              "    cursor: pointer;\n",
              "    display: none;\n",
              "    fill: var(--fill-color);\n",
              "    height: 32px;\n",
              "    padding: 0;\n",
              "    width: 32px;\n",
              "  }\n",
              "\n",
              "  .colab-df-quickchart:hover {\n",
              "    background-color: var(--hover-bg-color);\n",
              "    box-shadow: 0 1px 2px rgba(60, 64, 67, 0.3), 0 1px 3px 1px rgba(60, 64, 67, 0.15);\n",
              "    fill: var(--button-hover-fill-color);\n",
              "  }\n",
              "\n",
              "  .colab-df-quickchart-complete:disabled,\n",
              "  .colab-df-quickchart-complete:disabled:hover {\n",
              "    background-color: var(--disabled-bg-color);\n",
              "    fill: var(--disabled-fill-color);\n",
              "    box-shadow: none;\n",
              "  }\n",
              "\n",
              "  .colab-df-spinner {\n",
              "    border: 2px solid var(--fill-color);\n",
              "    border-color: transparent;\n",
              "    border-bottom-color: var(--fill-color);\n",
              "    animation:\n",
              "      spin 1s steps(1) infinite;\n",
              "  }\n",
              "\n",
              "  @keyframes spin {\n",
              "    0% {\n",
              "      border-color: transparent;\n",
              "      border-bottom-color: var(--fill-color);\n",
              "      border-left-color: var(--fill-color);\n",
              "    }\n",
              "    20% {\n",
              "      border-color: transparent;\n",
              "      border-left-color: var(--fill-color);\n",
              "      border-top-color: var(--fill-color);\n",
              "    }\n",
              "    30% {\n",
              "      border-color: transparent;\n",
              "      border-left-color: var(--fill-color);\n",
              "      border-top-color: var(--fill-color);\n",
              "      border-right-color: var(--fill-color);\n",
              "    }\n",
              "    40% {\n",
              "      border-color: transparent;\n",
              "      border-right-color: var(--fill-color);\n",
              "      border-top-color: var(--fill-color);\n",
              "    }\n",
              "    60% {\n",
              "      border-color: transparent;\n",
              "      border-right-color: var(--fill-color);\n",
              "    }\n",
              "    80% {\n",
              "      border-color: transparent;\n",
              "      border-right-color: var(--fill-color);\n",
              "      border-bottom-color: var(--fill-color);\n",
              "    }\n",
              "    90% {\n",
              "      border-color: transparent;\n",
              "      border-bottom-color: var(--fill-color);\n",
              "    }\n",
              "  }\n",
              "</style>\n",
              "\n",
              "      <script>\n",
              "        async function quickchart(key) {\n",
              "          const quickchartButtonEl =\n",
              "            document.querySelector('#' + key + ' button');\n",
              "          quickchartButtonEl.disabled = true;  // To prevent multiple clicks.\n",
              "          quickchartButtonEl.classList.add('colab-df-spinner');\n",
              "          try {\n",
              "            const charts = await google.colab.kernel.invokeFunction(\n",
              "                'suggestCharts', [key], {});\n",
              "          } catch (error) {\n",
              "            console.error('Error during call to suggestCharts:', error);\n",
              "          }\n",
              "          quickchartButtonEl.classList.remove('colab-df-spinner');\n",
              "          quickchartButtonEl.classList.add('colab-df-quickchart-complete');\n",
              "        }\n",
              "        (() => {\n",
              "          let quickchartButtonEl =\n",
              "            document.querySelector('#df-7b4850e9-3dcb-4018-830a-94e9fe939ec7 button');\n",
              "          quickchartButtonEl.style.display =\n",
              "            google.colab.kernel.accessAllowed ? 'block' : 'none';\n",
              "        })();\n",
              "      </script>\n",
              "    </div>\n",
              "\n",
              "    </div>\n",
              "  </div>\n"
            ],
            "application/vnd.google.colaboratory.intrinsic+json": {
              "type": "dataframe",
              "variable_name": "credit"
            }
          },
          "metadata": {},
          "execution_count": 55
        }
      ]
    },
    {
      "cell_type": "code",
      "source": [
        "record.info()"
      ],
      "metadata": {
        "colab": {
          "base_uri": "https://localhost:8080/"
        },
        "id": "kiu0hi7BOfRi",
        "outputId": "e14f0845-8409-40a6-818a-4f44b8c76ca1"
      },
      "execution_count": 56,
      "outputs": [
        {
          "output_type": "stream",
          "name": "stdout",
          "text": [
            "<class 'pandas.core.frame.DataFrame'>\n",
            "RangeIndex: 438557 entries, 0 to 438556\n",
            "Data columns (total 18 columns):\n",
            " #   Column               Non-Null Count   Dtype  \n",
            "---  ------               --------------   -----  \n",
            " 0   ID                   438557 non-null  int64  \n",
            " 1   CODE_GENDER          438557 non-null  object \n",
            " 2   FLAG_OWN_CAR         438557 non-null  object \n",
            " 3   FLAG_OWN_REALTY      438557 non-null  object \n",
            " 4   CNT_CHILDREN         438557 non-null  int64  \n",
            " 5   AMT_INCOME_TOTAL     438557 non-null  float64\n",
            " 6   NAME_INCOME_TYPE     438557 non-null  object \n",
            " 7   NAME_EDUCATION_TYPE  438557 non-null  object \n",
            " 8   NAME_FAMILY_STATUS   438557 non-null  object \n",
            " 9   NAME_HOUSING_TYPE    438557 non-null  object \n",
            " 10  DAYS_BIRTH           438557 non-null  int64  \n",
            " 11  DAYS_EMPLOYED        438557 non-null  int64  \n",
            " 12  FLAG_MOBIL           438557 non-null  int64  \n",
            " 13  FLAG_WORK_PHONE      438557 non-null  int64  \n",
            " 14  FLAG_PHONE           438557 non-null  int64  \n",
            " 15  FLAG_EMAIL           438557 non-null  int64  \n",
            " 16  OCCUPATION_TYPE      304354 non-null  object \n",
            " 17  CNT_FAM_MEMBERS      438557 non-null  float64\n",
            "dtypes: float64(2), int64(8), object(8)\n",
            "memory usage: 60.2+ MB\n"
          ]
        }
      ]
    },
    {
      "cell_type": "code",
      "source": [
        "credit.info()"
      ],
      "metadata": {
        "colab": {
          "base_uri": "https://localhost:8080/"
        },
        "id": "jstnP74qPPjq",
        "outputId": "526edbbc-5d63-492f-af12-8938467b8729"
      },
      "execution_count": 57,
      "outputs": [
        {
          "output_type": "stream",
          "name": "stdout",
          "text": [
            "<class 'pandas.core.frame.DataFrame'>\n",
            "RangeIndex: 1048575 entries, 0 to 1048574\n",
            "Data columns (total 3 columns):\n",
            " #   Column          Non-Null Count    Dtype \n",
            "---  ------          --------------    ----- \n",
            " 0   ID              1048575 non-null  int64 \n",
            " 1   MONTHS_BALANCE  1048575 non-null  int64 \n",
            " 2   STATUS          1048575 non-null  object\n",
            "dtypes: int64(2), object(1)\n",
            "memory usage: 24.0+ MB\n"
          ]
        }
      ]
    },
    {
      "cell_type": "markdown",
      "source": [
        "### 1.2 Check \"NULL\" & \"NaN\""
      ],
      "metadata": {
        "id": "OfVlRHfRcsnT"
      }
    },
    {
      "cell_type": "markdown",
      "source": [
        "* Has NULL or NaN around 130,000 of 430,000 which around 30%, but it only one feature."
      ],
      "metadata": {
        "id": "fSRO6nPZdG-7"
      }
    },
    {
      "cell_type": "code",
      "source": [
        "(record.isnull() | (record == 'NULL')).sum()"
      ],
      "metadata": {
        "colab": {
          "base_uri": "https://localhost:8080/",
          "height": 649
        },
        "id": "fE7NqoYLcvYr",
        "outputId": "c3ac1155-f2cf-4750-b170-1a91c47302b3"
      },
      "execution_count": 58,
      "outputs": [
        {
          "output_type": "execute_result",
          "data": {
            "text/plain": [
              "ID                          0\n",
              "CODE_GENDER                 0\n",
              "FLAG_OWN_CAR                0\n",
              "FLAG_OWN_REALTY             0\n",
              "CNT_CHILDREN                0\n",
              "AMT_INCOME_TOTAL            0\n",
              "NAME_INCOME_TYPE            0\n",
              "NAME_EDUCATION_TYPE         0\n",
              "NAME_FAMILY_STATUS          0\n",
              "NAME_HOUSING_TYPE           0\n",
              "DAYS_BIRTH                  0\n",
              "DAYS_EMPLOYED               0\n",
              "FLAG_MOBIL                  0\n",
              "FLAG_WORK_PHONE             0\n",
              "FLAG_PHONE                  0\n",
              "FLAG_EMAIL                  0\n",
              "OCCUPATION_TYPE        134203\n",
              "CNT_FAM_MEMBERS             0\n",
              "dtype: int64"
            ],
            "text/html": [
              "<div>\n",
              "<style scoped>\n",
              "    .dataframe tbody tr th:only-of-type {\n",
              "        vertical-align: middle;\n",
              "    }\n",
              "\n",
              "    .dataframe tbody tr th {\n",
              "        vertical-align: top;\n",
              "    }\n",
              "\n",
              "    .dataframe thead th {\n",
              "        text-align: right;\n",
              "    }\n",
              "</style>\n",
              "<table border=\"1\" class=\"dataframe\">\n",
              "  <thead>\n",
              "    <tr style=\"text-align: right;\">\n",
              "      <th></th>\n",
              "      <th>0</th>\n",
              "    </tr>\n",
              "  </thead>\n",
              "  <tbody>\n",
              "    <tr>\n",
              "      <th>ID</th>\n",
              "      <td>0</td>\n",
              "    </tr>\n",
              "    <tr>\n",
              "      <th>CODE_GENDER</th>\n",
              "      <td>0</td>\n",
              "    </tr>\n",
              "    <tr>\n",
              "      <th>FLAG_OWN_CAR</th>\n",
              "      <td>0</td>\n",
              "    </tr>\n",
              "    <tr>\n",
              "      <th>FLAG_OWN_REALTY</th>\n",
              "      <td>0</td>\n",
              "    </tr>\n",
              "    <tr>\n",
              "      <th>CNT_CHILDREN</th>\n",
              "      <td>0</td>\n",
              "    </tr>\n",
              "    <tr>\n",
              "      <th>AMT_INCOME_TOTAL</th>\n",
              "      <td>0</td>\n",
              "    </tr>\n",
              "    <tr>\n",
              "      <th>NAME_INCOME_TYPE</th>\n",
              "      <td>0</td>\n",
              "    </tr>\n",
              "    <tr>\n",
              "      <th>NAME_EDUCATION_TYPE</th>\n",
              "      <td>0</td>\n",
              "    </tr>\n",
              "    <tr>\n",
              "      <th>NAME_FAMILY_STATUS</th>\n",
              "      <td>0</td>\n",
              "    </tr>\n",
              "    <tr>\n",
              "      <th>NAME_HOUSING_TYPE</th>\n",
              "      <td>0</td>\n",
              "    </tr>\n",
              "    <tr>\n",
              "      <th>DAYS_BIRTH</th>\n",
              "      <td>0</td>\n",
              "    </tr>\n",
              "    <tr>\n",
              "      <th>DAYS_EMPLOYED</th>\n",
              "      <td>0</td>\n",
              "    </tr>\n",
              "    <tr>\n",
              "      <th>FLAG_MOBIL</th>\n",
              "      <td>0</td>\n",
              "    </tr>\n",
              "    <tr>\n",
              "      <th>FLAG_WORK_PHONE</th>\n",
              "      <td>0</td>\n",
              "    </tr>\n",
              "    <tr>\n",
              "      <th>FLAG_PHONE</th>\n",
              "      <td>0</td>\n",
              "    </tr>\n",
              "    <tr>\n",
              "      <th>FLAG_EMAIL</th>\n",
              "      <td>0</td>\n",
              "    </tr>\n",
              "    <tr>\n",
              "      <th>OCCUPATION_TYPE</th>\n",
              "      <td>134203</td>\n",
              "    </tr>\n",
              "    <tr>\n",
              "      <th>CNT_FAM_MEMBERS</th>\n",
              "      <td>0</td>\n",
              "    </tr>\n",
              "  </tbody>\n",
              "</table>\n",
              "</div><br><label><b>dtype:</b> int64</label>"
            ]
          },
          "metadata": {},
          "execution_count": 58
        }
      ]
    },
    {
      "cell_type": "code",
      "source": [
        "(credit.isnull() | (credit == 'NULL')).sum()"
      ],
      "metadata": {
        "colab": {
          "base_uri": "https://localhost:8080/",
          "height": 178
        },
        "id": "4xRDL38vc8Hz",
        "outputId": "6f90514a-8a7e-4e16-a76f-4066477088a4"
      },
      "execution_count": 59,
      "outputs": [
        {
          "output_type": "execute_result",
          "data": {
            "text/plain": [
              "ID                0\n",
              "MONTHS_BALANCE    0\n",
              "STATUS            0\n",
              "dtype: int64"
            ],
            "text/html": [
              "<div>\n",
              "<style scoped>\n",
              "    .dataframe tbody tr th:only-of-type {\n",
              "        vertical-align: middle;\n",
              "    }\n",
              "\n",
              "    .dataframe tbody tr th {\n",
              "        vertical-align: top;\n",
              "    }\n",
              "\n",
              "    .dataframe thead th {\n",
              "        text-align: right;\n",
              "    }\n",
              "</style>\n",
              "<table border=\"1\" class=\"dataframe\">\n",
              "  <thead>\n",
              "    <tr style=\"text-align: right;\">\n",
              "      <th></th>\n",
              "      <th>0</th>\n",
              "    </tr>\n",
              "  </thead>\n",
              "  <tbody>\n",
              "    <tr>\n",
              "      <th>ID</th>\n",
              "      <td>0</td>\n",
              "    </tr>\n",
              "    <tr>\n",
              "      <th>MONTHS_BALANCE</th>\n",
              "      <td>0</td>\n",
              "    </tr>\n",
              "    <tr>\n",
              "      <th>STATUS</th>\n",
              "      <td>0</td>\n",
              "    </tr>\n",
              "  </tbody>\n",
              "</table>\n",
              "</div><br><label><b>dtype:</b> int64</label>"
            ]
          },
          "metadata": {},
          "execution_count": 59
        }
      ]
    },
    {
      "cell_type": "markdown",
      "source": [
        "## 2. Adjust data"
      ],
      "metadata": {
        "id": "Dx5OtAA2ban6"
      }
    },
    {
      "cell_type": "markdown",
      "source": [
        "### 2.1 Merge data & Set target risk"
      ],
      "metadata": {
        "id": "vPOU3-pwgQsL"
      }
    },
    {
      "cell_type": "markdown",
      "source": [
        "* I choose user who overdue for more than 60 days to be target risk.\n",
        "* We face imbalance dataset."
      ],
      "metadata": {
        "id": "OtpEPYGdPdHx"
      }
    },
    {
      "cell_type": "code",
      "source": [
        "begin_month = credit.groupby(\"ID\")[\"MONTHS_BALANCE\"].min().reset_index()\n",
        "begin_month.rename(columns={'MONTHS_BALANCE': 'begin_month'}, inplace=True)\n",
        "new_data = pd.merge(record, begin_month, how=\"left\", on=\"ID\")\n",
        "\n",
        "credit['risk'] = credit['STATUS'].isin(['2', '3', '4', '5']).astype(int)\n",
        "\n",
        "cpunt = credit.groupby('ID')['risk'].sum().reset_index()\n",
        "cpunt['risk'] = cpunt['risk'].apply(lambda x: 'Yes' if x > 0 else 'No')\n",
        "\n",
        "new_data = pd.merge(new_data, cpunt, how='inner', on='ID')\n",
        "new_data['target'] = new_data['risk'].map({'Yes': 1, 'No': 0})\n",
        "new_data.drop('risk',axis=1,inplace=True)\n",
        "\n",
        "print(new_data['target'].value_counts())\n",
        "new_data['target'].value_counts(normalize=True)"
      ],
      "metadata": {
        "colab": {
          "base_uri": "https://localhost:8080/",
          "height": 248
        },
        "id": "8ANvo1YDba4y",
        "outputId": "7e0f12ed-f2da-42e5-d3df-2469bb622573"
      },
      "execution_count": 106,
      "outputs": [
        {
          "output_type": "stream",
          "name": "stdout",
          "text": [
            "target\n",
            "0    35841\n",
            "1      616\n",
            "Name: count, dtype: int64\n"
          ]
        },
        {
          "output_type": "execute_result",
          "data": {
            "text/plain": [
              "target\n",
              "0    0.983103\n",
              "1    0.016897\n",
              "Name: proportion, dtype: float64"
            ],
            "text/html": [
              "<div>\n",
              "<style scoped>\n",
              "    .dataframe tbody tr th:only-of-type {\n",
              "        vertical-align: middle;\n",
              "    }\n",
              "\n",
              "    .dataframe tbody tr th {\n",
              "        vertical-align: top;\n",
              "    }\n",
              "\n",
              "    .dataframe thead th {\n",
              "        text-align: right;\n",
              "    }\n",
              "</style>\n",
              "<table border=\"1\" class=\"dataframe\">\n",
              "  <thead>\n",
              "    <tr style=\"text-align: right;\">\n",
              "      <th></th>\n",
              "      <th>proportion</th>\n",
              "    </tr>\n",
              "    <tr>\n",
              "      <th>target</th>\n",
              "      <th></th>\n",
              "    </tr>\n",
              "  </thead>\n",
              "  <tbody>\n",
              "    <tr>\n",
              "      <th>0</th>\n",
              "      <td>0.983103</td>\n",
              "    </tr>\n",
              "    <tr>\n",
              "      <th>1</th>\n",
              "      <td>0.016897</td>\n",
              "    </tr>\n",
              "  </tbody>\n",
              "</table>\n",
              "</div><br><label><b>dtype:</b> float64</label>"
            ]
          },
          "metadata": {},
          "execution_count": 106
        }
      ]
    },
    {
      "cell_type": "markdown",
      "source": [
        "### 2.2 Check \"NULL\", \"NaN\" after merge"
      ],
      "metadata": {
        "id": "9SoCnFjrgdqL"
      }
    },
    {
      "cell_type": "code",
      "source": [
        "(new_data.isnull() | (new_data == 'NULL')).sum()"
      ],
      "metadata": {
        "colab": {
          "base_uri": "https://localhost:8080/",
          "height": 711
        },
        "id": "ynnqwoC-FzJE",
        "outputId": "a3b0709b-f39f-4d15-be9a-0d51b668bb87"
      },
      "execution_count": 61,
      "outputs": [
        {
          "output_type": "execute_result",
          "data": {
            "text/plain": [
              "ID                         0\n",
              "CODE_GENDER                0\n",
              "FLAG_OWN_CAR               0\n",
              "FLAG_OWN_REALTY            0\n",
              "CNT_CHILDREN               0\n",
              "AMT_INCOME_TOTAL           0\n",
              "NAME_INCOME_TYPE           0\n",
              "NAME_EDUCATION_TYPE        0\n",
              "NAME_FAMILY_STATUS         0\n",
              "NAME_HOUSING_TYPE          0\n",
              "DAYS_BIRTH                 0\n",
              "DAYS_EMPLOYED              0\n",
              "FLAG_MOBIL                 0\n",
              "FLAG_WORK_PHONE            0\n",
              "FLAG_PHONE                 0\n",
              "FLAG_EMAIL                 0\n",
              "OCCUPATION_TYPE        11323\n",
              "CNT_FAM_MEMBERS            0\n",
              "begin_month                0\n",
              "target                     0\n",
              "dtype: int64"
            ],
            "text/html": [
              "<div>\n",
              "<style scoped>\n",
              "    .dataframe tbody tr th:only-of-type {\n",
              "        vertical-align: middle;\n",
              "    }\n",
              "\n",
              "    .dataframe tbody tr th {\n",
              "        vertical-align: top;\n",
              "    }\n",
              "\n",
              "    .dataframe thead th {\n",
              "        text-align: right;\n",
              "    }\n",
              "</style>\n",
              "<table border=\"1\" class=\"dataframe\">\n",
              "  <thead>\n",
              "    <tr style=\"text-align: right;\">\n",
              "      <th></th>\n",
              "      <th>0</th>\n",
              "    </tr>\n",
              "  </thead>\n",
              "  <tbody>\n",
              "    <tr>\n",
              "      <th>ID</th>\n",
              "      <td>0</td>\n",
              "    </tr>\n",
              "    <tr>\n",
              "      <th>CODE_GENDER</th>\n",
              "      <td>0</td>\n",
              "    </tr>\n",
              "    <tr>\n",
              "      <th>FLAG_OWN_CAR</th>\n",
              "      <td>0</td>\n",
              "    </tr>\n",
              "    <tr>\n",
              "      <th>FLAG_OWN_REALTY</th>\n",
              "      <td>0</td>\n",
              "    </tr>\n",
              "    <tr>\n",
              "      <th>CNT_CHILDREN</th>\n",
              "      <td>0</td>\n",
              "    </tr>\n",
              "    <tr>\n",
              "      <th>AMT_INCOME_TOTAL</th>\n",
              "      <td>0</td>\n",
              "    </tr>\n",
              "    <tr>\n",
              "      <th>NAME_INCOME_TYPE</th>\n",
              "      <td>0</td>\n",
              "    </tr>\n",
              "    <tr>\n",
              "      <th>NAME_EDUCATION_TYPE</th>\n",
              "      <td>0</td>\n",
              "    </tr>\n",
              "    <tr>\n",
              "      <th>NAME_FAMILY_STATUS</th>\n",
              "      <td>0</td>\n",
              "    </tr>\n",
              "    <tr>\n",
              "      <th>NAME_HOUSING_TYPE</th>\n",
              "      <td>0</td>\n",
              "    </tr>\n",
              "    <tr>\n",
              "      <th>DAYS_BIRTH</th>\n",
              "      <td>0</td>\n",
              "    </tr>\n",
              "    <tr>\n",
              "      <th>DAYS_EMPLOYED</th>\n",
              "      <td>0</td>\n",
              "    </tr>\n",
              "    <tr>\n",
              "      <th>FLAG_MOBIL</th>\n",
              "      <td>0</td>\n",
              "    </tr>\n",
              "    <tr>\n",
              "      <th>FLAG_WORK_PHONE</th>\n",
              "      <td>0</td>\n",
              "    </tr>\n",
              "    <tr>\n",
              "      <th>FLAG_PHONE</th>\n",
              "      <td>0</td>\n",
              "    </tr>\n",
              "    <tr>\n",
              "      <th>FLAG_EMAIL</th>\n",
              "      <td>0</td>\n",
              "    </tr>\n",
              "    <tr>\n",
              "      <th>OCCUPATION_TYPE</th>\n",
              "      <td>11323</td>\n",
              "    </tr>\n",
              "    <tr>\n",
              "      <th>CNT_FAM_MEMBERS</th>\n",
              "      <td>0</td>\n",
              "    </tr>\n",
              "    <tr>\n",
              "      <th>begin_month</th>\n",
              "      <td>0</td>\n",
              "    </tr>\n",
              "    <tr>\n",
              "      <th>target</th>\n",
              "      <td>0</td>\n",
              "    </tr>\n",
              "  </tbody>\n",
              "</table>\n",
              "</div><br><label><b>dtype:</b> int64</label>"
            ]
          },
          "metadata": {},
          "execution_count": 61
        }
      ]
    },
    {
      "cell_type": "markdown",
      "source": [
        "### 2.3 Manage \"NULL\", \"NaN\""
      ],
      "metadata": {
        "id": "Mm6jPDvzHGmL"
      }
    },
    {
      "cell_type": "markdown",
      "source": [
        "* Due to 30% of data in occupation has lost, I decided to drop this columns because I want to keep 36000 data for training model instead of lose it 30%."
      ],
      "metadata": {
        "id": "K6klDyAjHco7"
      }
    },
    {
      "cell_type": "code",
      "source": [
        "new_data.drop('OCCUPATION_TYPE',axis=1,inplace=True)"
      ],
      "metadata": {
        "id": "m6wqb5XfHGA0"
      },
      "execution_count": 107,
      "outputs": []
    },
    {
      "cell_type": "markdown",
      "source": [
        "### 2.4 Change columns name for ease of use\n"
      ],
      "metadata": {
        "id": "zReqJPCblHpj"
      }
    },
    {
      "cell_type": "code",
      "source": [
        "new_data.rename(columns={'CODE_GENDER':'Gender','FLAG_OWN_CAR':'Car','FLAG_OWN_REALTY':'Property',\n",
        "                         'CNT_CHILDREN':'Child','AMT_INCOME_TOTAL':'Annual_income','NAME_INCOME_TYPE':'Income_type',\n",
        "                         'NAME_EDUCATION_TYPE':'Education_type','NAME_FAMILY_STATUS':'Family_status',\n",
        "                        'NAME_HOUSING_TYPE':'House_type','DAYS_BIRTH':'Age_day','DAYS_EMPLOYED':'Employed_age',\n",
        "                         'FLAG_MOBIL':'Mobile_phone','FLAG_EMAIL':'Email','FLAG_WORK_PHONE':'Working_phone',\n",
        "                         'FLAG_PHONE':'House_phone','CNT_FAM_MEMBERS':'Family_size'\n",
        "                        },inplace=True)"
      ],
      "metadata": {
        "id": "LbClX6-YlMBj"
      },
      "execution_count": 108,
      "outputs": []
    },
    {
      "cell_type": "markdown",
      "source": [
        "### 2.5 Scaling numeric data"
      ],
      "metadata": {
        "id": "hjgBs-zZk80T"
      }
    },
    {
      "cell_type": "markdown",
      "source": [
        "* Actually this topic is for regression based model, but I use tree based model so if you want to use regression you can scaling data to make it fit for training.\n",
        "* Standard scaler is for common data\n",
        "* Robust scaler is for data with outliner"
      ],
      "metadata": {
        "id": "-pZxSnGFQTNu"
      }
    },
    {
      "cell_type": "code",
      "source": [
        "## Annual_income, Employed_age, begin_month for robust\n",
        "## Age_day, Family_size for standard\n",
        "from sklearn.compose import ColumnTransformer\n",
        "from sklearn.preprocessing import RobustScaler, StandardScaler\n",
        "\n",
        "new_data['Annual_income_rscal'] = RobustScaler().fit_transform(new_data['Annual_income'].values.reshape(-1,1))\n",
        "new_data['Employed_age_rscal'] = RobustScaler().fit_transform(new_data['Employed_age'].values.reshape(-1,1))\n",
        "new_data['begin_month_rscal'] = RobustScaler().fit_transform(new_data['begin_month'].values.reshape(-1,1))\n",
        "\n",
        "new_data['Age_day_sscal'] = StandardScaler().fit_transform(new_data['Age_day'].values.reshape(-1,1))\n",
        "new_data['Family_size_sscal'] = StandardScaler().fit_transform(new_data['Family_size'].values.reshape(-1,1))\n",
        "\n",
        "new_data.drop(['Annual_income','Employed_age','begin_month','Age_day','Family_size'],axis=1,inplace=True)\n",
        "new_data.columns"
      ],
      "metadata": {
        "colab": {
          "base_uri": "https://localhost:8080/"
        },
        "id": "W_nEaQi9o4Pz",
        "outputId": "3c582219-c479-4e65-92a4-3464fd09187e"
      },
      "execution_count": 109,
      "outputs": [
        {
          "output_type": "execute_result",
          "data": {
            "text/plain": [
              "Index(['ID', 'Gender', 'Car', 'Property', 'Child', 'Income_type',\n",
              "       'Education_type', 'Family_status', 'House_type', 'Mobile_phone',\n",
              "       'Working_phone', 'House_phone', 'Email', 'target',\n",
              "       'Annual_income_rscal', 'Employed_age_rscal', 'begin_month_rscal',\n",
              "       'Age_day_sscal', 'Family_size_sscal'],\n",
              "      dtype='object')"
            ]
          },
          "metadata": {},
          "execution_count": 109
        }
      ]
    },
    {
      "cell_type": "markdown",
      "source": [
        "### 2.6 Change categorical data to numerica for model calculation"
      ],
      "metadata": {
        "id": "SPE9O1_8bVxM"
      }
    },
    {
      "cell_type": "markdown",
      "source": [
        "* This \"label encoders\" are more suitable for decision tree models than regression.\n",
        "* Why I not use \"one hot encoders\" to use logistic regression, because this dataset has a lot of categorical. It create more feature which cause overfit to regression based model.\n",
        "* Then I will use XGBoost in this dataset."
      ],
      "metadata": {
        "id": "16ImNcg-tp6s"
      }
    },
    {
      "cell_type": "code",
      "source": [
        "from sklearn.preprocessing import LabelEncoder\n",
        "categorical_cols = ['Gender', 'Car', 'Property', 'Income_type', 'Education_type',\n",
        "                    'Family_status', 'House_type']\n",
        "\n",
        "df_tree = new_data.copy()\n",
        "for col in categorical_cols:\n",
        "    df_tree[col] = LabelEncoder().fit_transform(df_tree[col])"
      ],
      "metadata": {
        "id": "gP6WhZt8r7Nc"
      },
      "execution_count": 110,
      "outputs": []
    },
    {
      "cell_type": "code",
      "source": [
        "df_tree.head()"
      ],
      "metadata": {
        "colab": {
          "base_uri": "https://localhost:8080/",
          "height": 226
        },
        "id": "NHyzxHsvsO68",
        "outputId": "999ed851-0354-478a-e2c6-61656de0ccc4"
      },
      "execution_count": 111,
      "outputs": [
        {
          "output_type": "execute_result",
          "data": {
            "text/plain": [
              "        ID  Gender  Car  Property  Child  Income_type  Education_type  \\\n",
              "0  5008804       1    1         1      0            4               1   \n",
              "1  5008805       1    1         1      0            4               1   \n",
              "2  5008806       1    1         1      0            4               4   \n",
              "3  5008808       0    0         1      0            0               4   \n",
              "4  5008809       0    0         1      0            0               4   \n",
              "\n",
              "   Family_status  House_type  Mobile_phone  Working_phone  House_phone  Email  \\\n",
              "0              0           4             1              1            0      0   \n",
              "1              0           4             1              1            0      0   \n",
              "2              1           1             1              0            0      0   \n",
              "3              3           1             1              0            1      1   \n",
              "4              3           1             1              0            1      1   \n",
              "\n",
              "   target  Annual_income_rscal  Employed_age_rscal  begin_month_rscal  \\\n",
              "0       0             2.608696           -1.089253           0.333333   \n",
              "1       0             2.608696           -1.089253           0.370370   \n",
              "2       0            -0.434783            0.152277          -0.185185   \n",
              "3       0             1.086957           -0.546084           0.740741   \n",
              "4       0             1.086957           -0.546084          -0.074074   \n",
              "\n",
              "   Age_day_sscal  Family_size_sscal  \n",
              "0       0.945169          -0.217680  \n",
              "1       0.945169          -0.217680  \n",
              "2      -1.309091          -0.217680  \n",
              "3      -0.746300          -1.314564  \n",
              "4      -0.746300          -1.314564  "
            ],
            "text/html": [
              "\n",
              "  <div id=\"df-fa01f99d-0cbb-402f-834b-71153633a8cf\" class=\"colab-df-container\">\n",
              "    <div>\n",
              "<style scoped>\n",
              "    .dataframe tbody tr th:only-of-type {\n",
              "        vertical-align: middle;\n",
              "    }\n",
              "\n",
              "    .dataframe tbody tr th {\n",
              "        vertical-align: top;\n",
              "    }\n",
              "\n",
              "    .dataframe thead th {\n",
              "        text-align: right;\n",
              "    }\n",
              "</style>\n",
              "<table border=\"1\" class=\"dataframe\">\n",
              "  <thead>\n",
              "    <tr style=\"text-align: right;\">\n",
              "      <th></th>\n",
              "      <th>ID</th>\n",
              "      <th>Gender</th>\n",
              "      <th>Car</th>\n",
              "      <th>Property</th>\n",
              "      <th>Child</th>\n",
              "      <th>Income_type</th>\n",
              "      <th>Education_type</th>\n",
              "      <th>Family_status</th>\n",
              "      <th>House_type</th>\n",
              "      <th>Mobile_phone</th>\n",
              "      <th>Working_phone</th>\n",
              "      <th>House_phone</th>\n",
              "      <th>Email</th>\n",
              "      <th>target</th>\n",
              "      <th>Annual_income_rscal</th>\n",
              "      <th>Employed_age_rscal</th>\n",
              "      <th>begin_month_rscal</th>\n",
              "      <th>Age_day_sscal</th>\n",
              "      <th>Family_size_sscal</th>\n",
              "    </tr>\n",
              "  </thead>\n",
              "  <tbody>\n",
              "    <tr>\n",
              "      <th>0</th>\n",
              "      <td>5008804</td>\n",
              "      <td>1</td>\n",
              "      <td>1</td>\n",
              "      <td>1</td>\n",
              "      <td>0</td>\n",
              "      <td>4</td>\n",
              "      <td>1</td>\n",
              "      <td>0</td>\n",
              "      <td>4</td>\n",
              "      <td>1</td>\n",
              "      <td>1</td>\n",
              "      <td>0</td>\n",
              "      <td>0</td>\n",
              "      <td>0</td>\n",
              "      <td>2.608696</td>\n",
              "      <td>-1.089253</td>\n",
              "      <td>0.333333</td>\n",
              "      <td>0.945169</td>\n",
              "      <td>-0.217680</td>\n",
              "    </tr>\n",
              "    <tr>\n",
              "      <th>1</th>\n",
              "      <td>5008805</td>\n",
              "      <td>1</td>\n",
              "      <td>1</td>\n",
              "      <td>1</td>\n",
              "      <td>0</td>\n",
              "      <td>4</td>\n",
              "      <td>1</td>\n",
              "      <td>0</td>\n",
              "      <td>4</td>\n",
              "      <td>1</td>\n",
              "      <td>1</td>\n",
              "      <td>0</td>\n",
              "      <td>0</td>\n",
              "      <td>0</td>\n",
              "      <td>2.608696</td>\n",
              "      <td>-1.089253</td>\n",
              "      <td>0.370370</td>\n",
              "      <td>0.945169</td>\n",
              "      <td>-0.217680</td>\n",
              "    </tr>\n",
              "    <tr>\n",
              "      <th>2</th>\n",
              "      <td>5008806</td>\n",
              "      <td>1</td>\n",
              "      <td>1</td>\n",
              "      <td>1</td>\n",
              "      <td>0</td>\n",
              "      <td>4</td>\n",
              "      <td>4</td>\n",
              "      <td>1</td>\n",
              "      <td>1</td>\n",
              "      <td>1</td>\n",
              "      <td>0</td>\n",
              "      <td>0</td>\n",
              "      <td>0</td>\n",
              "      <td>0</td>\n",
              "      <td>-0.434783</td>\n",
              "      <td>0.152277</td>\n",
              "      <td>-0.185185</td>\n",
              "      <td>-1.309091</td>\n",
              "      <td>-0.217680</td>\n",
              "    </tr>\n",
              "    <tr>\n",
              "      <th>3</th>\n",
              "      <td>5008808</td>\n",
              "      <td>0</td>\n",
              "      <td>0</td>\n",
              "      <td>1</td>\n",
              "      <td>0</td>\n",
              "      <td>0</td>\n",
              "      <td>4</td>\n",
              "      <td>3</td>\n",
              "      <td>1</td>\n",
              "      <td>1</td>\n",
              "      <td>0</td>\n",
              "      <td>1</td>\n",
              "      <td>1</td>\n",
              "      <td>0</td>\n",
              "      <td>1.086957</td>\n",
              "      <td>-0.546084</td>\n",
              "      <td>0.740741</td>\n",
              "      <td>-0.746300</td>\n",
              "      <td>-1.314564</td>\n",
              "    </tr>\n",
              "    <tr>\n",
              "      <th>4</th>\n",
              "      <td>5008809</td>\n",
              "      <td>0</td>\n",
              "      <td>0</td>\n",
              "      <td>1</td>\n",
              "      <td>0</td>\n",
              "      <td>0</td>\n",
              "      <td>4</td>\n",
              "      <td>3</td>\n",
              "      <td>1</td>\n",
              "      <td>1</td>\n",
              "      <td>0</td>\n",
              "      <td>1</td>\n",
              "      <td>1</td>\n",
              "      <td>0</td>\n",
              "      <td>1.086957</td>\n",
              "      <td>-0.546084</td>\n",
              "      <td>-0.074074</td>\n",
              "      <td>-0.746300</td>\n",
              "      <td>-1.314564</td>\n",
              "    </tr>\n",
              "  </tbody>\n",
              "</table>\n",
              "</div>\n",
              "    <div class=\"colab-df-buttons\">\n",
              "\n",
              "  <div class=\"colab-df-container\">\n",
              "    <button class=\"colab-df-convert\" onclick=\"convertToInteractive('df-fa01f99d-0cbb-402f-834b-71153633a8cf')\"\n",
              "            title=\"Convert this dataframe to an interactive table.\"\n",
              "            style=\"display:none;\">\n",
              "\n",
              "  <svg xmlns=\"http://www.w3.org/2000/svg\" height=\"24px\" viewBox=\"0 -960 960 960\">\n",
              "    <path d=\"M120-120v-720h720v720H120Zm60-500h600v-160H180v160Zm220 220h160v-160H400v160Zm0 220h160v-160H400v160ZM180-400h160v-160H180v160Zm440 0h160v-160H620v160ZM180-180h160v-160H180v160Zm440 0h160v-160H620v160Z\"/>\n",
              "  </svg>\n",
              "    </button>\n",
              "\n",
              "  <style>\n",
              "    .colab-df-container {\n",
              "      display:flex;\n",
              "      gap: 12px;\n",
              "    }\n",
              "\n",
              "    .colab-df-convert {\n",
              "      background-color: #E8F0FE;\n",
              "      border: none;\n",
              "      border-radius: 50%;\n",
              "      cursor: pointer;\n",
              "      display: none;\n",
              "      fill: #1967D2;\n",
              "      height: 32px;\n",
              "      padding: 0 0 0 0;\n",
              "      width: 32px;\n",
              "    }\n",
              "\n",
              "    .colab-df-convert:hover {\n",
              "      background-color: #E2EBFA;\n",
              "      box-shadow: 0px 1px 2px rgba(60, 64, 67, 0.3), 0px 1px 3px 1px rgba(60, 64, 67, 0.15);\n",
              "      fill: #174EA6;\n",
              "    }\n",
              "\n",
              "    .colab-df-buttons div {\n",
              "      margin-bottom: 4px;\n",
              "    }\n",
              "\n",
              "    [theme=dark] .colab-df-convert {\n",
              "      background-color: #3B4455;\n",
              "      fill: #D2E3FC;\n",
              "    }\n",
              "\n",
              "    [theme=dark] .colab-df-convert:hover {\n",
              "      background-color: #434B5C;\n",
              "      box-shadow: 0px 1px 3px 1px rgba(0, 0, 0, 0.15);\n",
              "      filter: drop-shadow(0px 1px 2px rgba(0, 0, 0, 0.3));\n",
              "      fill: #FFFFFF;\n",
              "    }\n",
              "  </style>\n",
              "\n",
              "    <script>\n",
              "      const buttonEl =\n",
              "        document.querySelector('#df-fa01f99d-0cbb-402f-834b-71153633a8cf button.colab-df-convert');\n",
              "      buttonEl.style.display =\n",
              "        google.colab.kernel.accessAllowed ? 'block' : 'none';\n",
              "\n",
              "      async function convertToInteractive(key) {\n",
              "        const element = document.querySelector('#df-fa01f99d-0cbb-402f-834b-71153633a8cf');\n",
              "        const dataTable =\n",
              "          await google.colab.kernel.invokeFunction('convertToInteractive',\n",
              "                                                    [key], {});\n",
              "        if (!dataTable) return;\n",
              "\n",
              "        const docLinkHtml = 'Like what you see? Visit the ' +\n",
              "          '<a target=\"_blank\" href=https://colab.research.google.com/notebooks/data_table.ipynb>data table notebook</a>'\n",
              "          + ' to learn more about interactive tables.';\n",
              "        element.innerHTML = '';\n",
              "        dataTable['output_type'] = 'display_data';\n",
              "        await google.colab.output.renderOutput(dataTable, element);\n",
              "        const docLink = document.createElement('div');\n",
              "        docLink.innerHTML = docLinkHtml;\n",
              "        element.appendChild(docLink);\n",
              "      }\n",
              "    </script>\n",
              "  </div>\n",
              "\n",
              "\n",
              "    <div id=\"df-441f8db3-809f-4801-afb0-5981f66cc50c\">\n",
              "      <button class=\"colab-df-quickchart\" onclick=\"quickchart('df-441f8db3-809f-4801-afb0-5981f66cc50c')\"\n",
              "                title=\"Suggest charts\"\n",
              "                style=\"display:none;\">\n",
              "\n",
              "<svg xmlns=\"http://www.w3.org/2000/svg\" height=\"24px\"viewBox=\"0 0 24 24\"\n",
              "     width=\"24px\">\n",
              "    <g>\n",
              "        <path d=\"M19 3H5c-1.1 0-2 .9-2 2v14c0 1.1.9 2 2 2h14c1.1 0 2-.9 2-2V5c0-1.1-.9-2-2-2zM9 17H7v-7h2v7zm4 0h-2V7h2v10zm4 0h-2v-4h2v4z\"/>\n",
              "    </g>\n",
              "</svg>\n",
              "      </button>\n",
              "\n",
              "<style>\n",
              "  .colab-df-quickchart {\n",
              "      --bg-color: #E8F0FE;\n",
              "      --fill-color: #1967D2;\n",
              "      --hover-bg-color: #E2EBFA;\n",
              "      --hover-fill-color: #174EA6;\n",
              "      --disabled-fill-color: #AAA;\n",
              "      --disabled-bg-color: #DDD;\n",
              "  }\n",
              "\n",
              "  [theme=dark] .colab-df-quickchart {\n",
              "      --bg-color: #3B4455;\n",
              "      --fill-color: #D2E3FC;\n",
              "      --hover-bg-color: #434B5C;\n",
              "      --hover-fill-color: #FFFFFF;\n",
              "      --disabled-bg-color: #3B4455;\n",
              "      --disabled-fill-color: #666;\n",
              "  }\n",
              "\n",
              "  .colab-df-quickchart {\n",
              "    background-color: var(--bg-color);\n",
              "    border: none;\n",
              "    border-radius: 50%;\n",
              "    cursor: pointer;\n",
              "    display: none;\n",
              "    fill: var(--fill-color);\n",
              "    height: 32px;\n",
              "    padding: 0;\n",
              "    width: 32px;\n",
              "  }\n",
              "\n",
              "  .colab-df-quickchart:hover {\n",
              "    background-color: var(--hover-bg-color);\n",
              "    box-shadow: 0 1px 2px rgba(60, 64, 67, 0.3), 0 1px 3px 1px rgba(60, 64, 67, 0.15);\n",
              "    fill: var(--button-hover-fill-color);\n",
              "  }\n",
              "\n",
              "  .colab-df-quickchart-complete:disabled,\n",
              "  .colab-df-quickchart-complete:disabled:hover {\n",
              "    background-color: var(--disabled-bg-color);\n",
              "    fill: var(--disabled-fill-color);\n",
              "    box-shadow: none;\n",
              "  }\n",
              "\n",
              "  .colab-df-spinner {\n",
              "    border: 2px solid var(--fill-color);\n",
              "    border-color: transparent;\n",
              "    border-bottom-color: var(--fill-color);\n",
              "    animation:\n",
              "      spin 1s steps(1) infinite;\n",
              "  }\n",
              "\n",
              "  @keyframes spin {\n",
              "    0% {\n",
              "      border-color: transparent;\n",
              "      border-bottom-color: var(--fill-color);\n",
              "      border-left-color: var(--fill-color);\n",
              "    }\n",
              "    20% {\n",
              "      border-color: transparent;\n",
              "      border-left-color: var(--fill-color);\n",
              "      border-top-color: var(--fill-color);\n",
              "    }\n",
              "    30% {\n",
              "      border-color: transparent;\n",
              "      border-left-color: var(--fill-color);\n",
              "      border-top-color: var(--fill-color);\n",
              "      border-right-color: var(--fill-color);\n",
              "    }\n",
              "    40% {\n",
              "      border-color: transparent;\n",
              "      border-right-color: var(--fill-color);\n",
              "      border-top-color: var(--fill-color);\n",
              "    }\n",
              "    60% {\n",
              "      border-color: transparent;\n",
              "      border-right-color: var(--fill-color);\n",
              "    }\n",
              "    80% {\n",
              "      border-color: transparent;\n",
              "      border-right-color: var(--fill-color);\n",
              "      border-bottom-color: var(--fill-color);\n",
              "    }\n",
              "    90% {\n",
              "      border-color: transparent;\n",
              "      border-bottom-color: var(--fill-color);\n",
              "    }\n",
              "  }\n",
              "</style>\n",
              "\n",
              "      <script>\n",
              "        async function quickchart(key) {\n",
              "          const quickchartButtonEl =\n",
              "            document.querySelector('#' + key + ' button');\n",
              "          quickchartButtonEl.disabled = true;  // To prevent multiple clicks.\n",
              "          quickchartButtonEl.classList.add('colab-df-spinner');\n",
              "          try {\n",
              "            const charts = await google.colab.kernel.invokeFunction(\n",
              "                'suggestCharts', [key], {});\n",
              "          } catch (error) {\n",
              "            console.error('Error during call to suggestCharts:', error);\n",
              "          }\n",
              "          quickchartButtonEl.classList.remove('colab-df-spinner');\n",
              "          quickchartButtonEl.classList.add('colab-df-quickchart-complete');\n",
              "        }\n",
              "        (() => {\n",
              "          let quickchartButtonEl =\n",
              "            document.querySelector('#df-441f8db3-809f-4801-afb0-5981f66cc50c button');\n",
              "          quickchartButtonEl.style.display =\n",
              "            google.colab.kernel.accessAllowed ? 'block' : 'none';\n",
              "        })();\n",
              "      </script>\n",
              "    </div>\n",
              "\n",
              "    </div>\n",
              "  </div>\n"
            ],
            "application/vnd.google.colaboratory.intrinsic+json": {
              "type": "dataframe",
              "variable_name": "df_tree",
              "summary": "{\n  \"name\": \"df_tree\",\n  \"rows\": 36457,\n  \"fields\": [\n    {\n      \"column\": \"ID\",\n      \"properties\": {\n        \"dtype\": \"number\",\n        \"std\": 41875,\n        \"min\": 5008804,\n        \"max\": 5150487,\n        \"num_unique_values\": 36457,\n        \"samples\": [\n          5091261,\n          5096963,\n          5087880\n        ],\n        \"semantic_type\": \"\",\n        \"description\": \"\"\n      }\n    },\n    {\n      \"column\": \"Gender\",\n      \"properties\": {\n        \"dtype\": \"number\",\n        \"std\": 0,\n        \"min\": 0,\n        \"max\": 1,\n        \"num_unique_values\": 2,\n        \"samples\": [\n          0,\n          1\n        ],\n        \"semantic_type\": \"\",\n        \"description\": \"\"\n      }\n    },\n    {\n      \"column\": \"Car\",\n      \"properties\": {\n        \"dtype\": \"number\",\n        \"std\": 0,\n        \"min\": 0,\n        \"max\": 1,\n        \"num_unique_values\": 2,\n        \"samples\": [\n          0,\n          1\n        ],\n        \"semantic_type\": \"\",\n        \"description\": \"\"\n      }\n    },\n    {\n      \"column\": \"Property\",\n      \"properties\": {\n        \"dtype\": \"number\",\n        \"std\": 0,\n        \"min\": 0,\n        \"max\": 1,\n        \"num_unique_values\": 2,\n        \"samples\": [\n          0,\n          1\n        ],\n        \"semantic_type\": \"\",\n        \"description\": \"\"\n      }\n    },\n    {\n      \"column\": \"Child\",\n      \"properties\": {\n        \"dtype\": \"number\",\n        \"std\": 0,\n        \"min\": 0,\n        \"max\": 19,\n        \"num_unique_values\": 9,\n        \"samples\": [\n          19,\n          1\n        ],\n        \"semantic_type\": \"\",\n        \"description\": \"\"\n      }\n    },\n    {\n      \"column\": \"Income_type\",\n      \"properties\": {\n        \"dtype\": \"number\",\n        \"std\": 1,\n        \"min\": 0,\n        \"max\": 4,\n        \"num_unique_values\": 5,\n        \"samples\": [\n          0,\n          3\n        ],\n        \"semantic_type\": \"\",\n        \"description\": \"\"\n      }\n    },\n    {\n      \"column\": \"Education_type\",\n      \"properties\": {\n        \"dtype\": \"number\",\n        \"std\": 1,\n        \"min\": 0,\n        \"max\": 4,\n        \"num_unique_values\": 5,\n        \"samples\": [\n          4,\n          0\n        ],\n        \"semantic_type\": \"\",\n        \"description\": \"\"\n      }\n    },\n    {\n      \"column\": \"Family_status\",\n      \"properties\": {\n        \"dtype\": \"number\",\n        \"std\": 0,\n        \"min\": 0,\n        \"max\": 4,\n        \"num_unique_values\": 5,\n        \"samples\": [\n          1,\n          4\n        ],\n        \"semantic_type\": \"\",\n        \"description\": \"\"\n      }\n    },\n    {\n      \"column\": \"House_type\",\n      \"properties\": {\n        \"dtype\": \"number\",\n        \"std\": 0,\n        \"min\": 0,\n        \"max\": 5,\n        \"num_unique_values\": 6,\n        \"samples\": [\n          4,\n          1\n        ],\n        \"semantic_type\": \"\",\n        \"description\": \"\"\n      }\n    },\n    {\n      \"column\": \"Mobile_phone\",\n      \"properties\": {\n        \"dtype\": \"number\",\n        \"std\": 0,\n        \"min\": 1,\n        \"max\": 1,\n        \"num_unique_values\": 1,\n        \"samples\": [\n          1\n        ],\n        \"semantic_type\": \"\",\n        \"description\": \"\"\n      }\n    },\n    {\n      \"column\": \"Working_phone\",\n      \"properties\": {\n        \"dtype\": \"number\",\n        \"std\": 0,\n        \"min\": 0,\n        \"max\": 1,\n        \"num_unique_values\": 2,\n        \"samples\": [\n          0\n        ],\n        \"semantic_type\": \"\",\n        \"description\": \"\"\n      }\n    },\n    {\n      \"column\": \"House_phone\",\n      \"properties\": {\n        \"dtype\": \"number\",\n        \"std\": 0,\n        \"min\": 0,\n        \"max\": 1,\n        \"num_unique_values\": 2,\n        \"samples\": [\n          1\n        ],\n        \"semantic_type\": \"\",\n        \"description\": \"\"\n      }\n    },\n    {\n      \"column\": \"Email\",\n      \"properties\": {\n        \"dtype\": \"number\",\n        \"std\": 0,\n        \"min\": 0,\n        \"max\": 1,\n        \"num_unique_values\": 2,\n        \"samples\": [\n          1\n        ],\n        \"semantic_type\": \"\",\n        \"description\": \"\"\n      }\n    },\n    {\n      \"column\": \"target\",\n      \"properties\": {\n        \"dtype\": \"number\",\n        \"std\": 0,\n        \"min\": 0,\n        \"max\": 1,\n        \"num_unique_values\": 2,\n        \"samples\": [\n          1\n        ],\n        \"semantic_type\": \"\",\n        \"description\": \"\"\n      }\n    },\n    {\n      \"column\": \"Annual_income_rscal\",\n      \"properties\": {\n        \"dtype\": \"number\",\n        \"std\": 0.9834707872690726,\n        \"min\": -1.2608695652173914,\n        \"max\": 13.695652173913043,\n        \"num_unique_values\": 265,\n        \"samples\": [\n          -0.9695652173913043\n        ],\n        \"semantic_type\": \"\",\n        \"description\": \"\"\n      }\n    },\n    {\n      \"column\": \"Employed_age_rscal\",\n      \"properties\": {\n        \"dtype\": \"number\",\n        \"std\": 50.146205777361686,\n        \"min\": -5.158834244080146,\n        \"max\": 133.62295081967213,\n        \"num_unique_values\": 3640,\n        \"samples\": [\n          0.0692167577413479\n        ],\n        \"semantic_type\": \"\",\n        \"description\": \"\"\n      }\n    },\n    {\n      \"column\": \"begin_month_rscal\",\n      \"properties\": {\n        \"dtype\": \"number\",\n        \"std\": 0.6111797950715961,\n        \"min\": -1.3333333333333333,\n        \"max\": 0.8888888888888888,\n        \"num_unique_values\": 61,\n        \"samples\": [\n          0.3333333333333333\n        ],\n        \"semantic_type\": \"\",\n        \"description\": \"\"\n      }\n    },\n    {\n      \"column\": \"Age_day_sscal\",\n      \"properties\": {\n        \"dtype\": \"number\",\n        \"std\": 1.0000137150694426,\n        \"min\": -2.184702622595318,\n        \"max\": 2.020280650014914,\n        \"num_unique_values\": 7183,\n        \"samples\": [\n          -1.6392903666053933\n        ],\n        \"semantic_type\": \"\",\n        \"description\": \"\"\n      }\n    },\n    {\n      \"column\": \"Family_size_sscal\",\n      \"properties\": {\n        \"dtype\": \"number\",\n        \"std\": 1.0000137150695854,\n        \"min\": -1.3145635887181122,\n        \"max\": 19.52622763905879,\n        \"num_unique_values\": 10,\n        \"samples\": [\n          19.52622763905879\n        ],\n        \"semantic_type\": \"\",\n        \"description\": \"\"\n      }\n    }\n  ]\n}"
            }
          },
          "metadata": {},
          "execution_count": 111
        }
      ]
    },
    {
      "cell_type": "markdown",
      "source": [
        "### 2.7 Split data"
      ],
      "metadata": {
        "id": "CmG-7jMpuXb8"
      }
    },
    {
      "cell_type": "markdown",
      "source": [
        "* Prepare for training and test model."
      ],
      "metadata": {
        "id": "mATxTjnORUMk"
      }
    },
    {
      "cell_type": "code",
      "source": [
        "from sklearn.model_selection import train_test_split\n",
        "X = df_tree.drop(['ID','target'], axis=1)\n",
        "y = df_tree['target']\n",
        "\n",
        "X_train, X_test, y_train, y_test = train_test_split(\n",
        "    X, y, test_size=0.2, stratify=y, random_state=77)"
      ],
      "metadata": {
        "id": "moBzGKTRuaDM"
      },
      "execution_count": 113,
      "outputs": []
    },
    {
      "cell_type": "markdown",
      "source": [
        "## 3. Modeling XGBoost"
      ],
      "metadata": {
        "id": "C0Qsi1Nwtjbt"
      }
    },
    {
      "cell_type": "markdown",
      "source": [
        "### 3.1 Bayes-search"
      ],
      "metadata": {
        "id": "2rcgJ0f-14Xp"
      }
    },
    {
      "cell_type": "markdown",
      "source": [
        "* I use BayesSearchCV instead of GridSearchCV and RandomSearchCV, because I want to use less time for train model.\n",
        "* Hyperparameter I choose is common use, if you want to use other thing you can do it."
      ],
      "metadata": {
        "id": "a3CE4MZpRdpz"
      }
    },
    {
      "cell_type": "code",
      "source": [
        "!pip install scikit-optimize"
      ],
      "metadata": {
        "id": "xzEyHGOsA6iS"
      },
      "execution_count": null,
      "outputs": []
    },
    {
      "cell_type": "code",
      "source": [
        "from imblearn.pipeline import Pipeline\n",
        "from imblearn.over_sampling import SMOTE\n",
        "from sklearn.model_selection import StratifiedKFold\n",
        "from skopt import BayesSearchCV\n",
        "from xgboost import XGBClassifier\n",
        "\n",
        "pipeline = Pipeline([\n",
        "    ('smote', SMOTE(sampling_strategy = 0.1 ,random_state=77)),\n",
        "    ('xgb', XGBClassifier(use_label_encoder=False, eval_metric='logloss'))\n",
        "])\n",
        "\n",
        "search_space = {\n",
        "    'xgb__max_depth': (3, 10),\n",
        "    'xgb__learning_rate': (0.01, 0.3, 'log-uniform'),\n",
        "    'xgb__n_estimators': (50, 300),\n",
        "    'xgb__subsample': (0.5, 1.0, 'uniform'),\n",
        "    'xgb__colsample_bytree': (0.5, 1.0, 'uniform'),\n",
        "}\n",
        "\n",
        "opt = BayesSearchCV(\n",
        "    estimator=pipeline,\n",
        "    search_spaces=search_space,\n",
        "    n_iter=30,\n",
        "    cv=StratifiedKFold(n_splits=3),\n",
        "    scoring='f1',\n",
        "    n_jobs=-1,\n",
        "    random_state=77\n",
        ")\n",
        "\n",
        "opt.fit(X_train, y_train)\n",
        "\n",
        "print(\"Best Parameters:\", opt.best_params_)"
      ],
      "metadata": {
        "colab": {
          "base_uri": "https://localhost:8080/"
        },
        "id": "HahXAax3EpVx",
        "outputId": "3b91790e-2f25-4e75-f52b-13a21e56e43a"
      },
      "execution_count": 114,
      "outputs": [
        {
          "output_type": "stream",
          "name": "stderr",
          "text": [
            "/usr/local/lib/python3.11/dist-packages/xgboost/core.py:158: UserWarning: [14:04:09] WARNING: /workspace/src/learner.cc:740: \n",
            "Parameters: { \"use_label_encoder\" } are not used.\n",
            "\n",
            "  warnings.warn(smsg, UserWarning)\n"
          ]
        },
        {
          "output_type": "stream",
          "name": "stdout",
          "text": [
            "Best Parameters: OrderedDict([('xgb__colsample_bytree', 0.5), ('xgb__learning_rate', 0.29999999999999993), ('xgb__max_depth', 7), ('xgb__n_estimators', 300), ('xgb__subsample', 1.0)])\n"
          ]
        }
      ]
    },
    {
      "cell_type": "markdown",
      "source": [
        "## 4. Analyze"
      ],
      "metadata": {
        "id": "n5JmEKTWSXxq"
      }
    },
    {
      "cell_type": "markdown",
      "source": [
        "### 4.1 Importance feature"
      ],
      "metadata": {
        "id": "mQEuG6FbZEMh"
      }
    },
    {
      "cell_type": "markdown",
      "source": [
        "* We can see feature that are numerical has more importance than categorical. This is because the frequency of feature express more signal than categorical which make model detect more importance."
      ],
      "metadata": {
        "id": "6qJ1yMQdScHy"
      }
    },
    {
      "cell_type": "code",
      "source": [
        "from xgboost import plot_importance\n",
        "\n",
        "best_model = opt.best_estimator_\n",
        "xgb_model = best_model.named_steps['xgb']\n",
        "\n",
        "plot_importance(xgb_model, max_num_features=10)\n",
        "plt.show()"
      ],
      "metadata": {
        "colab": {
          "base_uri": "https://localhost:8080/",
          "height": 472
        },
        "id": "gChinYMj-ROn",
        "outputId": "ffaba2ba-6a98-49aa-ca3a-3d7baa7fded3"
      },
      "execution_count": 115,
      "outputs": [
        {
          "output_type": "display_data",
          "data": {
            "text/plain": [
              "<Figure size 640x480 with 1 Axes>"
            ],
            "image/png": "[encoded data removed]"
          },
          "metadata": {}
        }
      ]
    },
    {
      "cell_type": "markdown",
      "source": [
        "### 4.2 Precision & Recall"
      ],
      "metadata": {
        "id": "eYuCUsqDXMFE"
      }
    },
    {
      "cell_type": "markdown",
      "source": [
        "* The result of recall and precision isn't impressive even I use any techique skill."
      ],
      "metadata": {
        "id": "eXunaYJdXQgL"
      }
    },
    {
      "cell_type": "code",
      "source": [
        "from sklearn.metrics import precision_recall_curve\n",
        "\n",
        "best_model = opt.best_estimator_\n",
        "y_scores = best_model.predict_proba(X_test)[:, 1]\n",
        "precision, recall, thresholds = precision_recall_curve(y_test, y_scores)\n",
        "\n",
        "plt.figure(figsize=(8, 6))\n",
        "plt.plot(thresholds, precision[:-1], label='Precision')\n",
        "plt.plot(thresholds, recall[:-1], label='Recall')\n",
        "plt.xlabel('Threshold')\n",
        "plt.ylabel('Score')\n",
        "plt.title('Precision and Recall vs Threshold')\n",
        "plt.legend()\n",
        "plt.grid(True)\n",
        "plt.show()"
      ],
      "metadata": {
        "colab": {
          "base_uri": "https://localhost:8080/",
          "height": 564
        },
        "id": "3JApPJ1JD8U1",
        "outputId": "e20e8b25-cb6b-4c54-8ad3-8853183159f5"
      },
      "execution_count": 116,
      "outputs": [
        {
          "output_type": "display_data",
          "data": {
            "text/plain": [
              "<Figure size 800x600 with 1 Axes>"
            ],
            "image/png": "[encoded data removed]"
          },
          "metadata": {}
        }
      ]
    },
    {
      "cell_type": "markdown",
      "source": [
        "### 4.3 Confusion matrix"
      ],
      "metadata": {
        "id": "Oa5UyVeQXeUj"
      }
    },
    {
      "cell_type": "markdown",
      "source": [
        "* ✅ TN (True Negative) = 7135 Predicted as 0 and was correct\n",
        "* ❌ FP (False Positive) = 34 Predicted as 1 but was actually 0\n",
        "* ❌ FN (False Negative) = 95 Predicted as 0 but was actually 1 (Missed approval)\n",
        "* ✅ TP (True Positive) = 28 Predicted as 1 and was correct"
      ],
      "metadata": {
        "id": "rUyjP1xgX6HT"
      }
    },
    {
      "cell_type": "code",
      "source": [
        "from sklearn.metrics import confusion_matrix, ConfusionMatrixDisplay\n",
        "\n",
        "y_pred = best_model.predict(X_test)\n",
        "cm = confusion_matrix(y_test, y_pred)\n",
        "\n",
        "disp = ConfusionMatrixDisplay(confusion_matrix=cm)\n",
        "disp.plot(cmap='Blues')\n",
        "plt.title(\"Confusion Matrix\")\n",
        "plt.show()"
      ],
      "metadata": {
        "colab": {
          "base_uri": "https://localhost:8080/",
          "height": 472
        },
        "id": "CR3E0YxhCAjw",
        "outputId": "92da9e6f-3343-41b8-a580-1c19003d730d"
      },
      "execution_count": 117,
      "outputs": [
        {
          "output_type": "display_data",
          "data": {
            "text/plain": [
              "<Figure size 640x480 with 2 Axes>"
            ],
            "image/png": "[encoded data removed]"
          },
          "metadata": {}
        }
      ]
    },
    {
      "cell_type": "code",
      "source": [
        "from sklearn.metrics import precision_score, recall_score, f1_score\n",
        "\n",
        "print(\"Precision:\", precision_score(y_test, y_pred))\n",
        "print(\"Recall:\", recall_score(y_test, y_pred))\n",
        "print(\"F1-score:\", f1_score(y_test, y_pred))"
      ],
      "metadata": {
        "colab": {
          "base_uri": "https://localhost:8080/"
        },
        "id": "1MKpe-PiCC1A",
        "outputId": "0450c205-b277-4cb9-8288-16a476e272bb"
      },
      "execution_count": 118,
      "outputs": [
        {
          "output_type": "stream",
          "name": "stdout",
          "text": [
            "Precision: 0.45161290322580644\n",
            "Recall: 0.22764227642276422\n",
            "F1-score: 0.3027027027027027\n"
          ]
        }
      ]
    },
    {
      "cell_type": "markdown",
      "source": [
        "### 4.4 ROC curve"
      ],
      "metadata": {
        "id": "jsxQ5GuyZxMp"
      }
    },
    {
      "cell_type": "markdown",
      "source": [
        "* AUC = 0.78 isn't impressive but moderate classify."
      ],
      "metadata": {
        "id": "O5xRhwDvZ2TQ"
      }
    },
    {
      "cell_type": "code",
      "source": [
        "from sklearn.metrics import roc_curve, roc_auc_score\n",
        "\n",
        "y_proba = best_model.predict_proba(X_test)[:, 1]\n",
        "fpr, tpr, thresholds = roc_curve(y_test, y_proba)\n",
        "auc = roc_auc_score(y_test, y_proba)\n",
        "\n",
        "plt.figure()\n",
        "plt.plot(fpr, tpr, label=f\"ROC Curve (AUC = {auc:.2f})\")\n",
        "plt.plot([0, 1], [0, 1], 'k--', label='Random Classifier')\n",
        "plt.xlabel(\"False Positive Rate\")\n",
        "plt.ylabel(\"True Positive Rate\")\n",
        "plt.title(\"ROC Curve\")\n",
        "plt.legend(loc=\"lower right\")\n",
        "plt.grid(True)\n",
        "plt.show()"
      ],
      "metadata": {
        "colab": {
          "base_uri": "https://localhost:8080/",
          "height": 472
        },
        "id": "6Jyn1Xm6CLqv",
        "outputId": "2ec0905c-ba31-407f-c4d5-e05832169bc2"
      },
      "execution_count": 101,
      "outputs": [
        {
          "output_type": "display_data",
          "data": {
            "text/plain": [
              "<Figure size 640x480 with 1 Axes>"
            ],
            "image/png": "[encoded data removed]"
          },
          "metadata": {}
        }
      ]
    },
    {
      "cell_type": "markdown",
      "source": [
        "## 5. Conclusion"
      ],
      "metadata": {
        "id": "f5FAJafPUK9f"
      }
    },
    {
      "cell_type": "markdown",
      "source": [
        "1. This data has imbalance dataset, NaN or NULL in one feature which need to fix. I fix imbalance by SMOTE and fix NaN or NULL by drop feature out.\n",
        "2. My goal is to less approve on overdue user for more than 60 days to decrease business financial damage. But the model isn't well perform, maybe data is a lot of categorical and less signal for model to predict who is deserve approval.\n",
        "3. I has try logistic regression and it still bad as XGBoost, but I haven't try neural network so if you want to use this dataset, maybe you should try other model especially neural network. Why I not use? because it take too long time to process and my goal doing this and many project is to know many technique and solve real problem such as NULL and imbalance dataset. I have only 2 months to practice before study again in university so I need to improve a lot before my time is due.\n",
        "4. Lastly, if there is any mistake, please tell me. I'm happy to listen."
      ],
      "metadata": {
        "id": "cTYVogWsaMvh"
      }
    }
  ]
}